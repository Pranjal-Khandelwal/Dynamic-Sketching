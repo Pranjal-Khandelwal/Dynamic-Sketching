{
 "cells": [
  {
   "cell_type": "code",
   "execution_count": 1,
   "id": "f1e2d1e1",
   "metadata": {},
   "outputs": [],
   "source": [
    "import cv2\n",
    "import numpy as np"
   ]
  },
  {
   "cell_type": "code",
   "execution_count": 2,
   "id": "d0d71fef",
   "metadata": {},
   "outputs": [],
   "source": [
    "def sketch(image):\n",
    "       gray_image = cv2.cvtColor(image,cv2.COLOR_BGR2GRAY)\n",
    "       blur= cv2.GaussianBlur(gray_image,ksize=(3,3),sigmaX=0,sigmaY=0)\n",
    "       edge = cv2.Canny(blur,5,70)\n",
    "       ret,th = cv2.threshold(edge,100,255,cv2.THRESH_BINARY_INV)\n",
    "       return th"
   ]
  },
  {
   "cell_type": "code",
   "execution_count": 3,
   "id": "84619371",
   "metadata": {},
   "outputs": [],
   "source": [
    "cap = cv2.VideoCapture(0)"
   ]
  },
  {
   "cell_type": "code",
   "execution_count": null,
   "id": "cb530588",
   "metadata": {},
   "outputs": [],
   "source": [
    "while True:\n",
    "       ret,frame = cap.read()\n",
    "       cv2.imshow('Live Sketch',sketch(frame))\n",
    "       \n",
    "       if cv2.waitKey(1)==13:\n",
    "              break"
   ]
  },
  {
   "cell_type": "code",
   "execution_count": null,
   "id": "7cb13eda",
   "metadata": {},
   "outputs": [],
   "source": [
    "cv2.imshow(\"live\",sketch(frame))\n",
    "cap.release()\n",
    "cv2.destroyAllWindows()"
   ]
  },
  {
   "cell_type": "code",
   "execution_count": null,
   "id": "9a27dbe3",
   "metadata": {},
   "outputs": [],
   "source": []
  }
 ],
 "metadata": {
  "kernelspec": {
   "display_name": "Python 3",
   "language": "python",
   "name": "python3"
  },
  "language_info": {
   "codemirror_mode": {
    "name": "ipython",
    "version": 3
   },
   "file_extension": ".py",
   "mimetype": "text/x-python",
   "name": "python",
   "nbconvert_exporter": "python",
   "pygments_lexer": "ipython3",
   "version": "3.7.4"
  }
 },
 "nbformat": 4,
 "nbformat_minor": 5
}
